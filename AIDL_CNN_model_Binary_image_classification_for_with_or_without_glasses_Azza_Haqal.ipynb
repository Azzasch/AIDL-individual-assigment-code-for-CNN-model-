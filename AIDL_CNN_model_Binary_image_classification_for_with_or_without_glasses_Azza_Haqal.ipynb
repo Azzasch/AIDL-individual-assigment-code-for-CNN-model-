{
  "nbformat": 4,
  "nbformat_minor": 0,
  "metadata": {
    "colab": {
      "provenance": []
    },
    "kernelspec": {
      "name": "python3",
      "display_name": "Python 3"
    },
    "language_info": {
      "name": "python"
    }
  },
  "cells": [
    {
      "cell_type": "code",
      "execution_count": 2,
      "metadata": {
        "colab": {
          "base_uri": "https://localhost:8080/"
        },
        "id": "_m5Nk8TO6Cwd",
        "outputId": "f0e40805-dc02-4e53-ad9e-7e870e7b8225"
      },
      "outputs": [
        {
          "output_type": "stream",
          "name": "stdout",
          "text": [
            "Mounted at /content/drive\n"
          ]
        }
      ],
      "source": [
        "# Code used to get my test and train data for glasses or without glasses from my google drive\n",
        "from google.colab import drive\n",
        "drive.mount('/content/drive', force_remount=True)"
      ]
    },
    {
      "cell_type": "code",
      "source": [
        "# Stated the path of relevant data files\n",
        "train_dir = '/content/drive/MyDrive/train'\n",
        "test_dir = '/content/drive/MyDrive/test'"
      ],
      "metadata": {
        "id": "SwXUHcZXNwd-"
      },
      "execution_count": 3,
      "outputs": []
    },
    {
      "cell_type": "code",
      "source": [
        "import os #Imported the OS module for directory interactions then printing the amount of data (images) in each folder\n",
        "print(len(os.listdir('/content/drive/MyDrive/train/without_glasses')))\n",
        "print(len(os.listdir('/content/drive/MyDrive/train/with_glasses')))\n",
        "print(len(os.listdir('/content/drive/MyDrive/test/without_glasses')))\n",
        "print(len(os.listdir('/content/drive/MyDrive/test/with_glasses')))"
      ],
      "metadata": {
        "colab": {
          "base_uri": "https://localhost:8080/"
        },
        "id": "wLSWAIegOEwv",
        "outputId": "8a8e7f6d-e916-4c12-d5dc-7f3c932b4081"
      },
      "execution_count": 4,
      "outputs": [
        {
          "output_type": "stream",
          "name": "stdout",
          "text": [
            "2500\n",
            "2500\n",
            "2380\n",
            "1365\n"
          ]
        }
      ]
    },
    {
      "cell_type": "code",
      "source": [
        "import tensorflow as tf\n",
        "from tensorflow.keras.preprocessing.image import ImageDataGenerator\n",
        "\n",
        "# Created ImageDataGenerator for training set then splitted 20% of the images for validation\n",
        "train_datagen = ImageDataGenerator(\n",
        "    rescale=1./255,\n",
        "    validation_split=0.2\n",
        ")\n",
        "\n",
        "# Loaded the training data then prepared it to have the images be sized 256,256 with the batch size 32\n",
        "train_data = train_datagen.flow_from_directory(\n",
        "    train_dir,\n",
        "    target_size=(256,256),\n",
        "    batch_size=32,\n",
        "    class_mode='binary',  # Made it binary to classify in terms of with glasses or without glasses\n",
        "    subset='training'  # specified it as a training set\n",
        ")\n",
        "\n",
        "#  ImageDataGenerator created for validation set same as the training set\n",
        "validation_datagen = ImageDataGenerator(\n",
        "    rescale=1./255,\n",
        "    validation_split=0.2  # used the same amount of split as the training set\n",
        ")\n",
        "\n",
        "# Load and prepare validation data\n",
        "validation_data = validation_datagen.flow_from_directory(\n",
        "    train_dir,\n",
        "    target_size=(256,256),\n",
        "    batch_size=32,\n",
        "    class_mode='binary', #same as the training set\n",
        "    subset='validation'  #specified it as a validation set\n",
        ")"
      ],
      "metadata": {
        "colab": {
          "base_uri": "https://localhost:8080/"
        },
        "id": "U5HADATbWHkj",
        "outputId": "e7ea9bab-fb82-475d-b67b-fb133f8d0f41"
      },
      "execution_count": 6,
      "outputs": [
        {
          "output_type": "stream",
          "name": "stdout",
          "text": [
            "Found 4000 images belonging to 2 classes.\n",
            "Found 1000 images belonging to 2 classes.\n"
          ]
        }
      ]
    },
    {
      "cell_type": "code",
      "source": [
        "#Imported the necessary modules for CNN model creation\n",
        "from tensorflow import keras\n",
        "from keras import Sequential\n",
        "from keras.layers import Dense,Conv2D,MaxPooling2D,Flatten,BatchNormalization,UpSampling2D, Dropout"
      ],
      "metadata": {
        "id": "Zf_BtA4PXnBV"
      },
      "execution_count": 9,
      "outputs": []
    },
    {
      "cell_type": "code",
      "source": [
        "# Codes to create the CNN Model\n",
        "\n",
        "model = Sequential()\n",
        "\n",
        "#Added 4 layers\n",
        "\n",
        "model.add(Conv2D(32,kernel_size=(3,3),padding='valid',activation='relu',input_shape=(256,256,3)))  # 32 filters\n",
        "#model.add(BatchNormalization())  # added to reduce overfitting\n",
        "model.add(MaxPooling2D(pool_size=(2,2),strides=2,padding='valid'))\n",
        "\n",
        "model.add(Conv2D(64,kernel_size=(3,3),padding='valid',activation='relu'))  # 64 filters\n",
        "model.add(MaxPooling2D(pool_size=(2,2),strides=2,padding='valid'))\n",
        "\n",
        "model.add(Conv2D(128,kernel_size=(3,3),padding='valid',activation='relu'))  # 128 filters\n",
        "model.add(MaxPooling2D(pool_size=(2,2),strides=2,padding='valid'))\n",
        "\n",
        "model.add(Conv2D(150,kernel_size=(3,3),padding='valid',activation='relu'))  # 150 filters\n",
        "model.add(MaxPooling2D(pool_size=(2,2),strides=2,padding='valid'))\n",
        "\n",
        "model.add(Flatten())\n",
        "\n",
        "#model.add(Dropout(0.1))  # added to reduce overfitting\n",
        "model.add(Dense(128,activation='relu')) #feature reduction  with 128 filters\n",
        "\n",
        "model.add(Dense(64,activation='relu')) # 64 filters\n",
        "\n",
        "model.add(Dense(1,activation='sigmoid'))  # Used Sigmoid for the the output layer because binary classification"
      ],
      "metadata": {
        "id": "eZFTGyuMYI2k"
      },
      "execution_count": 10,
      "outputs": []
    },
    {
      "cell_type": "code",
      "source": [
        "from keras.optimizers import Adam\n",
        "model.compile(optimizer=Adam(learning_rate=0.001),loss='binary_crossentropy',metrics=['accuracy']) #binary_crossentropy - binary classification"
      ],
      "metadata": {
        "id": "PrX7NlHFY5ly"
      },
      "execution_count": 11,
      "outputs": []
    },
    {
      "cell_type": "code",
      "source": [
        "history = model.fit(train_data, epochs=25, validation_data=validation_data)"
      ],
      "metadata": {
        "colab": {
          "base_uri": "https://localhost:8080/"
        },
        "id": "O9I7Nq44ZCzd",
        "outputId": "a7ddb129-600b-41f8-a47b-53e6254e4e5d"
      },
      "execution_count": 12,
      "outputs": [
        {
          "output_type": "stream",
          "name": "stdout",
          "text": [
            "Epoch 1/25\n",
            "125/125 [==============================] - 905s 7s/step - loss: 0.3165 - accuracy: 0.8393 - val_loss: 0.8617 - val_accuracy: 0.7540\n",
            "Epoch 2/25\n",
            "125/125 [==============================] - 704s 6s/step - loss: 0.0546 - accuracy: 0.9845 - val_loss: 0.7120 - val_accuracy: 0.8130\n",
            "Epoch 3/25\n",
            "125/125 [==============================] - 677s 5s/step - loss: 0.0343 - accuracy: 0.9902 - val_loss: 0.3074 - val_accuracy: 0.8920\n",
            "Epoch 4/25\n",
            "125/125 [==============================] - 671s 5s/step - loss: 0.0223 - accuracy: 0.9923 - val_loss: 0.3593 - val_accuracy: 0.9130\n",
            "Epoch 5/25\n",
            "125/125 [==============================] - 704s 6s/step - loss: 0.0159 - accuracy: 0.9942 - val_loss: 0.6132 - val_accuracy: 0.8580\n",
            "Epoch 6/25\n",
            "125/125 [==============================] - 674s 5s/step - loss: 0.0149 - accuracy: 0.9942 - val_loss: 0.1361 - val_accuracy: 0.9470\n",
            "Epoch 7/25\n",
            "125/125 [==============================] - 693s 6s/step - loss: 0.0173 - accuracy: 0.9950 - val_loss: 0.5495 - val_accuracy: 0.8880\n",
            "Epoch 8/25\n",
            "125/125 [==============================] - 658s 5s/step - loss: 0.0118 - accuracy: 0.9962 - val_loss: 0.6194 - val_accuracy: 0.8810\n",
            "Epoch 9/25\n",
            "125/125 [==============================] - 669s 5s/step - loss: 0.0134 - accuracy: 0.9950 - val_loss: 0.3956 - val_accuracy: 0.9070\n",
            "Epoch 10/25\n",
            "125/125 [==============================] - 654s 5s/step - loss: 0.0143 - accuracy: 0.9950 - val_loss: 0.9218 - val_accuracy: 0.8790\n",
            "Epoch 11/25\n",
            "125/125 [==============================] - 690s 6s/step - loss: 0.0228 - accuracy: 0.9915 - val_loss: 0.9862 - val_accuracy: 0.8350\n",
            "Epoch 12/25\n",
            "125/125 [==============================] - 657s 5s/step - loss: 0.0116 - accuracy: 0.9962 - val_loss: 0.4520 - val_accuracy: 0.9180\n",
            "Epoch 13/25\n",
            "125/125 [==============================] - 690s 6s/step - loss: 0.0059 - accuracy: 0.9980 - val_loss: 0.7415 - val_accuracy: 0.8800\n",
            "Epoch 14/25\n",
            "125/125 [==============================] - 681s 5s/step - loss: 0.0011 - accuracy: 1.0000 - val_loss: 0.9162 - val_accuracy: 0.8930\n",
            "Epoch 15/25\n",
            "125/125 [==============================] - 652s 5s/step - loss: 1.1379e-04 - accuracy: 1.0000 - val_loss: 0.9378 - val_accuracy: 0.8970\n",
            "Epoch 16/25\n",
            "125/125 [==============================] - 686s 5s/step - loss: 5.0950e-05 - accuracy: 1.0000 - val_loss: 0.9924 - val_accuracy: 0.9010\n",
            "Epoch 17/25\n",
            "125/125 [==============================] - 665s 5s/step - loss: 2.9299e-05 - accuracy: 1.0000 - val_loss: 1.0579 - val_accuracy: 0.9010\n",
            "Epoch 18/25\n",
            "125/125 [==============================] - 661s 5s/step - loss: 1.5163e-05 - accuracy: 1.0000 - val_loss: 1.1860 - val_accuracy: 0.8980\n",
            "Epoch 19/25\n",
            "125/125 [==============================] - 665s 5s/step - loss: 9.2240e-06 - accuracy: 1.0000 - val_loss: 1.2419 - val_accuracy: 0.8990\n",
            "Epoch 20/25\n",
            "125/125 [==============================] - 699s 6s/step - loss: 6.6200e-06 - accuracy: 1.0000 - val_loss: 1.2949 - val_accuracy: 0.8980\n",
            "Epoch 21/25\n",
            "125/125 [==============================] - 655s 5s/step - loss: 5.0460e-06 - accuracy: 1.0000 - val_loss: 1.3278 - val_accuracy: 0.8980\n",
            "Epoch 22/25\n",
            "125/125 [==============================] - 691s 6s/step - loss: 4.0476e-06 - accuracy: 1.0000 - val_loss: 1.3250 - val_accuracy: 0.8990\n",
            "Epoch 23/25\n",
            "125/125 [==============================] - 663s 5s/step - loss: 3.3399e-06 - accuracy: 1.0000 - val_loss: 1.3316 - val_accuracy: 0.8990\n",
            "Epoch 24/25\n",
            "125/125 [==============================] - 659s 5s/step - loss: 2.6917e-06 - accuracy: 1.0000 - val_loss: 1.3742 - val_accuracy: 0.8990\n",
            "Epoch 25/25\n",
            "125/125 [==============================] - 655s 5s/step - loss: 2.2830e-06 - accuracy: 1.0000 - val_loss: 1.3948 - val_accuracy: 0.8990\n"
          ]
        }
      ]
    },
    {
      "cell_type": "code",
      "source": [
        "#importing the library responsible for visual analysis then showcasing the accuracy line plotting\n",
        "import matplotlib.pyplot as plt\n",
        "\n",
        "plt.plot(history.history['accuracy'],color='red',label='train')\n",
        "plt.plot(history.history['val_accuracy'],color='blue',label='validation')\n",
        "plt.legend()\n",
        "plt.show()"
      ],
      "metadata": {
        "colab": {
          "base_uri": "https://localhost:8080/",
          "height": 430
        },
        "id": "ruxj7ulfx6wX",
        "outputId": "8c20b4c7-ad53-46c6-bd24-4dd3889ac146"
      },
      "execution_count": 13,
      "outputs": [
        {
          "output_type": "display_data",
          "data": {
            "text/plain": [
              "<Figure size 640x480 with 1 Axes>"
            ],
            "image/png": "[encoded data removed]"
          },
          "metadata": {}
        }
      ]
    },
    {
      "cell_type": "code",
      "source": [
        "plt.plot(history.history['loss'],color='red',label='train')\n",
        "plt.plot(history.history['val_loss'],color='blue',label='validation')\n",
        "plt.legend()\n",
        "plt.show()"
      ],
      "metadata": {
        "colab": {
          "base_uri": "https://localhost:8080/",
          "height": 430
        },
        "id": "Qj1p2hQbz-Pu",
        "outputId": "f82d040f-459c-47d9-bbbb-aa3ddb7fbeaa"
      },
      "execution_count": 14,
      "outputs": [
        {
          "output_type": "display_data",
          "data": {
            "text/plain": [
              "<Figure size 640x480 with 1 Axes>"
            ],
            "image/png": "[encoded data removed]"
          },
          "metadata": {}
        }
      ]
    },
    {
      "cell_type": "code",
      "source": [
        "#To start of the testing, normalization and resizing is done as pre-processing\n",
        "test_datagen = ImageDataGenerator(rescale=1./255)\n",
        "test_data = test_datagen.flow_from_directory(\n",
        "    test_dir,\n",
        "    target_size=(256,256),\n",
        "    batch_size=32,\n",
        "    class_mode='binary'\n",
        ")"
      ],
      "metadata": {
        "colab": {
          "base_uri": "https://localhost:8080/"
        },
        "id": "yI6t6bN00BLG",
        "outputId": "3047f526-03d1-405d-b59d-ba63fb238c0c"
      },
      "execution_count": 15,
      "outputs": [
        {
          "output_type": "stream",
          "name": "stdout",
          "text": [
            "Found 3745 images belonging to 2 classes.\n"
          ]
        }
      ]
    },
    {
      "cell_type": "code",
      "source": [
        "#make prediction of the test data\n",
        "predictions = model.predict(test_data)\n",
        "print(predictions)"
      ],
      "metadata": {
        "colab": {
          "base_uri": "https://localhost:8080/"
        },
        "id": "DY6-x9MU0eJz",
        "outputId": "23f52ae5-10aa-4beb-fc0b-788f9d735541"
      },
      "execution_count": 16,
      "outputs": [
        {
          "output_type": "stream",
          "name": "stdout",
          "text": [
            "118/118 [==============================] - 875s 7s/step\n",
            "[[1.0000000e+00]\n",
            " [1.0000000e+00]\n",
            " [9.0901125e-08]\n",
            " ...\n",
            " [1.0000000e+00]\n",
            " [5.5141707e-11]\n",
            " [1.0000000e+00]]\n"
          ]
        }
      ]
    },
    {
      "cell_type": "code",
      "source": [
        "len(predictions) #display the length of the predictions"
      ],
      "metadata": {
        "colab": {
          "base_uri": "https://localhost:8080/"
        },
        "id": "xxZEDAi44YKt",
        "outputId": "d2fe4096-4679-4b73-99d9-e503c8c6c478"
      },
      "execution_count": 17,
      "outputs": [
        {
          "output_type": "execute_result",
          "data": {
            "text/plain": [
              "3745"
            ]
          },
          "metadata": {},
          "execution_count": 17
        }
      ]
    },
    {
      "cell_type": "code",
      "source": [
        "#Getting the confusion matrix\n",
        "\n",
        "from sklearn.metrics import confusion_matrix, classification_report\n",
        "\n",
        "# Assuming you have ground truth labels (true_labels) and predicted labels (predictions)\n",
        "true_labels = test_data.classes\n",
        "predicted_labels = (predictions > 0.5).astype(int)  #adjusted the threshold\n",
        "\n",
        "# Calculation of the confusion matrix\n",
        "cm = confusion_matrix(true_labels, predicted_labels)\n",
        "\n",
        "# Printing the calculation of confusion matrix\n",
        "print(\"Confusion Matrix:\")\n",
        "print(cm)\n",
        "\n",
        "# Print the overall classification report with the labels\n",
        "print(\"Classification Report:\")\n",
        "print(classification_report(true_labels, predicted_labels))"
      ],
      "metadata": {
        "colab": {
          "base_uri": "https://localhost:8080/"
        },
        "id": "K8CTZwRM4mTL",
        "outputId": "c17ecb05-8476-4c15-a05d-7dc38c67d8ea"
      },
      "execution_count": 18,
      "outputs": [
        {
          "output_type": "stream",
          "name": "stdout",
          "text": [
            "Confusion Matrix:\n",
            "[[ 469  896]\n",
            " [ 793 1587]]\n",
            "Classification Report:\n",
            "              precision    recall  f1-score   support\n",
            "\n",
            "           0       0.37      0.34      0.36      1365\n",
            "           1       0.64      0.67      0.65      2380\n",
            "\n",
            "    accuracy                           0.55      3745\n",
            "   macro avg       0.51      0.51      0.50      3745\n",
            "weighted avg       0.54      0.55      0.54      3745\n",
            "\n"
          ]
        }
      ]
    },
    {
      "cell_type": "code",
      "source": [
        "#To start using the pre-trained mode, import the necessary libraries with the layers, ResNet152 will be used\n",
        "from tensorflow import keras\n",
        "from keras import Sequential\n",
        "from keras.layers import Dense,Conv2D,MaxPooling2D,Flatten\n",
        "\n",
        "resnet_model = Sequential()\n",
        "pretrained_model = tf.keras.applications.ResNet152(include_top = False, #since there's our own image of a diff dimension\n",
        "                                                input_shape = (256,256,3),\n",
        "                                                pooling = 'max', classes = 2,\n",
        "                                                weights = 'imagenet')\n",
        "for layer in pretrained_model.layers:\n",
        "    layer.trainable = False  #all layers in the Resnet152 is not trainable\n",
        "#Our own layers given:\n",
        "resnet_model.add(pretrained_model)\n",
        "resnet_model.add(Flatten())\n",
        "resnet_model.add(Dense(512, activation = 'relu'))\n",
        "resnet_model.add(Dense(1, activation = 'sigmoid'))"
      ],
      "metadata": {
        "colab": {
          "base_uri": "https://localhost:8080/"
        },
        "id": "P0CCs1Rt5zrG",
        "outputId": "68eef9ec-e50e-4e60-9f34-30c83349809d"
      },
      "execution_count": 7,
      "outputs": [
        {
          "output_type": "stream",
          "name": "stdout",
          "text": [
            "Downloading data from https://storage.googleapis.com/tensorflow/keras-applications/resnet/resnet152_weights_tf_dim_ordering_tf_kernels_notop.h5\n",
            "234698864/234698864 [==============================] - 10s 0us/step\n"
          ]
        }
      ]
    },
    {
      "cell_type": "code",
      "source": [
        "resnet_model.summary() #showcase the pre-trained model summary"
      ],
      "metadata": {
        "colab": {
          "base_uri": "https://localhost:8080/"
        },
        "id": "e8b8AE0h6xxj",
        "outputId": "176b8e53-0ca4-4d05-e918-57b0d0244963"
      },
      "execution_count": 8,
      "outputs": [
        {
          "output_type": "stream",
          "name": "stdout",
          "text": [
            "Model: \"sequential_1\"\n",
            "_________________________________________________________________\n",
            " Layer (type)                Output Shape              Param #   \n",
            "=================================================================\n",
            " resnet152 (Functional)      (None, 2048)              58370944  \n",
            "                                                                 \n",
            " flatten (Flatten)           (None, 2048)              0         \n",
            "                                                                 \n",
            " dense (Dense)               (None, 512)               1049088   \n",
            "                                                                 \n",
            " dense_1 (Dense)             (None, 1)                 513       \n",
            "                                                                 \n",
            "=================================================================\n",
            "Total params: 59420545 (226.67 MB)\n",
            "Trainable params: 1049601 (4.00 MB)\n",
            "Non-trainable params: 58370944 (222.67 MB)\n",
            "_________________________________________________________________\n"
          ]
        }
      ]
    },
    {
      "cell_type": "code",
      "source": [
        "from keras.optimizers import Adam\n",
        "resnet_model.compile(optimizer=Adam(learning_rate=0.001),loss='binary_crossentropy',metrics=['accuracy']) #get the adam optimizer for the resnet model"
      ],
      "metadata": {
        "id": "wff3k8Ga7GI0"
      },
      "execution_count": 9,
      "outputs": []
    },
    {
      "cell_type": "code",
      "source": [
        "history = resnet_model.fit(train_data, epochs=4, validation_data=validation_data)  #4 epochs given"
      ],
      "metadata": {
        "colab": {
          "base_uri": "https://localhost:8080/"
        },
        "id": "T4G8dnmp7SLR",
        "outputId": "a44c095c-6413-48d2-ad2d-3d95920553ce"
      },
      "execution_count": 10,
      "outputs": [
        {
          "output_type": "stream",
          "name": "stdout",
          "text": [
            "Epoch 1/4\n",
            "125/125 [==============================] - 3211s 25s/step - loss: 0.7941 - accuracy: 0.6967 - val_loss: 0.7820 - val_accuracy: 0.5750\n",
            "Epoch 2/4\n",
            "125/125 [==============================] - 3108s 25s/step - loss: 0.4408 - accuracy: 0.8043 - val_loss: 0.7793 - val_accuracy: 0.5730\n",
            "Epoch 3/4\n",
            "125/125 [==============================] - 3074s 25s/step - loss: 0.3913 - accuracy: 0.8307 - val_loss: 0.9781 - val_accuracy: 0.5700\n",
            "Epoch 4/4\n",
            "125/125 [==============================] - 3086s 25s/step - loss: 0.3641 - accuracy: 0.8440 - val_loss: 0.9708 - val_accuracy: 0.5900\n"
          ]
        }
      ]
    },
    {
      "cell_type": "code",
      "source": [
        "import matplotlib.pyplot as plt #plotting for resnet\n",
        "\n",
        "plt.plot(history.history['accuracy'],color='red',label='train')\n",
        "plt.plot(history.history['val_accuracy'],color='blue',label='validation')\n",
        "plt.legend()\n",
        "plt.show()"
      ],
      "metadata": {
        "colab": {
          "base_uri": "https://localhost:8080/",
          "height": 430
        },
        "id": "hwSDv7pZ8bOB",
        "outputId": "f645a079-3d68-4b42-aacc-0ab36629ad79"
      },
      "execution_count": 11,
      "outputs": [
        {
          "output_type": "display_data",
          "data": {
            "text/plain": [
              "<Figure size 640x480 with 1 Axes>"
            ],
            "image/png": "[encoded data removed]"
          },
          "metadata": {}
        }
      ]
    },
    {
      "cell_type": "code",
      "source": [
        "plt.plot(history.history['loss'],color='red',label='train')\n",
        "plt.plot(history.history['val_loss'],color='blue',label='validation')\n",
        "plt.legend()\n",
        "plt.show()\n"
      ],
      "metadata": {
        "colab": {
          "base_uri": "https://localhost:8080/",
          "height": 431
        },
        "id": "WuU6TGzy8lkt",
        "outputId": "bdd09769-3b2a-4372-89da-b8b56c94084a"
      },
      "execution_count": 12,
      "outputs": [
        {
          "output_type": "display_data",
          "data": {
            "text/plain": [
              "<Figure size 640x480 with 1 Axes>"
            ],
            "image/png": "[encoded data removed]"
          },
          "metadata": {}
        }
      ]
    },
    {
      "cell_type": "code",
      "source": [
        "#Testing ResNet with the data\n",
        "test_datagen = ImageDataGenerator(rescale=1./255)\n",
        "test_data = test_datagen.flow_from_directory(\n",
        "    test_dir,\n",
        "    target_size=(256,256),\n",
        "    batch_size=32,\n",
        "    class_mode='binary'\n",
        ")"
      ],
      "metadata": {
        "colab": {
          "base_uri": "https://localhost:8080/"
        },
        "id": "9maEHrH98q0v",
        "outputId": "cbda3210-6435-405d-996e-cf09550f7e97"
      },
      "execution_count": 13,
      "outputs": [
        {
          "output_type": "stream",
          "name": "stdout",
          "text": [
            "Found 3745 images belonging to 2 classes.\n"
          ]
        }
      ]
    },
    {
      "cell_type": "code",
      "source": [
        "#prediction for the test data\n",
        "predictions = resnet_model.predict(test_data)\n",
        "print(predictions)"
      ],
      "metadata": {
        "colab": {
          "base_uri": "https://localhost:8080/"
        },
        "id": "fmvdv7-E82bd",
        "outputId": "beb8b3ed-7ced-4b7d-eb7f-9cfbcfeb84a0"
      },
      "execution_count": 14,
      "outputs": [
        {
          "output_type": "stream",
          "name": "stdout",
          "text": [
            "118/118 [==============================] - 2395s 20s/step\n",
            "[[0.35270265]\n",
            " [0.90323824]\n",
            " [0.15772396]\n",
            " ...\n",
            " [0.82602835]\n",
            " [0.31500512]\n",
            " [0.67038125]]\n"
          ]
        }
      ]
    },
    {
      "cell_type": "code",
      "source": [
        "len(predictions)"
      ],
      "metadata": {
        "colab": {
          "base_uri": "https://localhost:8080/"
        },
        "id": "xSU5kUP2L8wl",
        "outputId": "181c5594-48ac-437b-9044-1f665e82b97b"
      },
      "execution_count": 15,
      "outputs": [
        {
          "output_type": "execute_result",
          "data": {
            "text/plain": [
              "3745"
            ]
          },
          "metadata": {},
          "execution_count": 15
        }
      ]
    },
    {
      "cell_type": "code",
      "source": [
        "from sklearn.metrics import confusion_matrix, classification_report\n",
        "\n",
        "\n",
        "true_labels = test_data.classes\n",
        "predicted_labels = (predictions > 0.5).astype(int)  #  0.5 threshold\n",
        "\n",
        "# Calculating confusion matrix for the pre-trained model\n",
        "cm = confusion_matrix(true_labels, predicted_labels)\n",
        "\n",
        "# displaying the confusion matrix alongside the classification report\n",
        "print(\"Confusion Matrix:\")\n",
        "print(cm)\n",
        "\n",
        "print(\"Classification Report:\")\n",
        "print(classification_report(true_labels, predicted_labels))"
      ],
      "metadata": {
        "colab": {
          "base_uri": "https://localhost:8080/"
        },
        "id": "qsIGR743MFN4",
        "outputId": "1d1c5ec0-6b9b-40b8-e67f-ac977cd8bf5a"
      },
      "execution_count": 16,
      "outputs": [
        {
          "output_type": "stream",
          "name": "stdout",
          "text": [
            "Confusion Matrix:\n",
            "[[ 341 1024]\n",
            " [ 583 1797]]\n",
            "Classification Report:\n",
            "              precision    recall  f1-score   support\n",
            "\n",
            "           0       0.37      0.25      0.30      1365\n",
            "           1       0.64      0.76      0.69      2380\n",
            "\n",
            "    accuracy                           0.57      3745\n",
            "   macro avg       0.50      0.50      0.49      3745\n",
            "weighted avg       0.54      0.57      0.55      3745\n",
            "\n"
          ]
        }
      ]
    }
  ]
}